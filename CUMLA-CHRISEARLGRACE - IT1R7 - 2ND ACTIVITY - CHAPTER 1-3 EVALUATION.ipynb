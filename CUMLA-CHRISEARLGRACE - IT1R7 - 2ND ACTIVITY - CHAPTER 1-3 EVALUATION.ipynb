{
 "cells": [
  {
   "cell_type": "code",
   "execution_count": 3,
   "id": "completed-mistake",
   "metadata": {},
   "outputs": [
    {
     "name": "stdout",
     "output_type": "stream",
     "text": [
      "Discuss your learnings on Chapter 1  time-frame 8:00 - 30:35. Minimum of 200 characters \n",
      "\n",
      "n this chapter I got to know about Data structure and algorithm and the importance from  Characteristics, Execution time case, Application, basic terminology.\n"
     ]
    }
   ],
   "source": [
    "print(\"Discuss your learnings on Chapter 1  time-frame 8:00 - 30:35. Minimum of 200 characters \\n\")\n",
    "print(\"In this chapter I got to know about Data structure and algorithm and the importance from  Characteristics, Execution time case, Application, basic terminology.\")"
   ]
  },
  {
   "cell_type": "code",
   "execution_count": 4,
   "id": "front-consensus",
   "metadata": {},
   "outputs": [
    {
     "name": "stdout",
     "output_type": "stream",
     "text": [
      "Discuss your learnings on Chapter 1  time-frame 35:00 - end. Minimum of 200 characters \n",
      "\n",
      "I also learned in this chapter about algorithm, writing algorithm, analysing algorithm and local environment setup.\n"
     ]
    }
   ],
   "source": [
    "print(\"Discuss your learnings on Chapter 1  time-frame 35:00 - end. Minimum of 200 characters \\n\")\n",
    "print(\"I also learned in this chapter about algorithm, writing algorithm, analysing algorithm and local environment setup.\")"
   ]
  },
  {
   "cell_type": "code",
   "execution_count": 5,
   "id": "global-budget",
   "metadata": {},
   "outputs": [
    {
     "name": "stdout",
     "output_type": "stream",
     "text": [
      "Discuss your learnings on Chapter 2  time-frame 5:00 - 9:00. Minimum of 200 characters \n",
      "\n",
      "Data structures and algorithm; the data structures basic concept. In this chapter I learned the basics concept of Data structure. The Data definition, Data object, Data type, Built-in Data type, Derived Data type and Basic operation.\n"
     ]
    }
   ],
   "source": [
    "print(\"Discuss your learnings on Chapter 2  time-frame 5:00 - 9:00. Minimum of 200 characters \\n\")\n",
    "print(\"Data structures and algorithm; the data structures basic concept. In this chapter I learned the basics concept of Data structure. The Data definition, Data object, Data type, Built-in Data type, Derived Data type and Basic operation.\")"
   ]
  },
  {
   "cell_type": "code",
   "execution_count": 6,
   "id": "prepared-restaurant",
   "metadata": {},
   "outputs": [
    {
     "name": "stdout",
     "output_type": "stream",
     "text": [
      "Discuss your learnings on Chapter 3  time-frame 3:00 - 18:00. Minimum of 200 characters \n",
      "\n",
      "This lesson helped me to know what is an array. Array is a container which can hold a fix number of item . Important terms of array are Element and index. I also learned from the array representation and using basic operations.\n"
     ]
    }
   ],
   "source": [
    "print(\"Discuss your learnings on Chapter 3  time-frame 3:00 - 18:00. Minimum of 200 characters \\n\")\n",
    "print(\"This lesson helped me to know what is an array. Array is a container which can hold a fix number of item . Important terms of array are Element and index. I also learned from the array representation and using basic operations.\")"
   ]
  },
  {
   "cell_type": "code",
   "execution_count": 2,
   "id": "alert-river",
   "metadata": {},
   "outputs": [
    {
     "name": "stdout",
     "output_type": "stream",
     "text": [
      "30\n",
      "40\n",
      "4\n",
      "60\n"
     ]
    }
   ],
   "source": [
    "from array import *\n",
    "array1 = array('B',[20, 30, 40, 50, 60])\n",
    "array1.remove(20)\n",
    "array1[2] = 4\n",
    "for k in array1:\n",
    "    print(k)"
   ]
  },
  {
   "cell_type": "code",
   "execution_count": null,
   "id": "excess-calculator",
   "metadata": {},
   "outputs": [],
   "source": []
  }
 ],
 "metadata": {
  "kernelspec": {
   "display_name": "Python 3",
   "language": "python",
   "name": "python3"
  },
  "language_info": {
   "codemirror_mode": {
    "name": "ipython",
    "version": 3
   },
   "file_extension": ".py",
   "mimetype": "text/x-python",
   "name": "python",
   "nbconvert_exporter": "python",
   "pygments_lexer": "ipython3",
   "version": "3.9.2"
  }
 },
 "nbformat": 4,
 "nbformat_minor": 5
}
